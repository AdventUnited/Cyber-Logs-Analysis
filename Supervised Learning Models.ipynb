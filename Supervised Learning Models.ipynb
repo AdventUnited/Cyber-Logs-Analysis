{
 "cells": [
  {
   "cell_type": "markdown",
   "metadata": {},
   "source": [
    "\n",
    "# Logistic Regression"
   ]
  },
  {
   "cell_type": "code",
   "execution_count": 1,
   "metadata": {},
   "outputs": [],
   "source": [
    "# load these packages\n",
    "\n",
    "from pyspark.ml.evaluation import BinaryClassificationEvaluator, MulticlassClassificationEvaluator, RegressionEvaluator\n",
    "from pyspark.ml.classification import DecisionTreeClassifier\n",
    "from pyspark.ml.tuning import CrossValidator, ParamGridBuilder\n",
    "from pyspark.ml.feature import HashingTF, IDF, Tokenizer\n",
    "from pyspark.mllib.evaluation import BinaryClassificationMetrics, MulticlassMetrics\n",
    "from pyspark.ml import feature, regression, evaluation, Pipeline, clustering, classification\n",
    "from pyspark.sql import functions as fn, Row, SparkSession\n",
    "from pyspark.sql.functions import col, expr, when\n",
    "from pyspark.ml.feature import VectorAssembler\n",
    "from pyspark.sql.types import *\n",
    "import matplotlib.pyplot as plt\n",
    "from mpl_toolkits.mplot3d import Axes3D\n",
    "import pandas as pd\n",
    "import numpy as np\n",
    "import sys\n",
    "spark = SparkSession.builder.getOrCreate()\n",
    "sc = spark.sparkContext\n",
    "\n"
   ]
  },
  {
   "cell_type": "code",
   "execution_count": 2,
   "metadata": {},
   "outputs": [
    {
     "name": "stdout",
     "output_type": "stream",
     "text": [
      "Requirement already satisfied: koalas in /opt/conda/lib/python3.6/site-packages (0.21.0)\n",
      "Requirement already satisfied: pyarrow<0.15,>=0.10 in /opt/conda/lib/python3.6/site-packages (from koalas) (0.11.1)\n",
      "Requirement already satisfied: numpy>=1.14 in /opt/conda/lib/python3.6/site-packages (from koalas) (1.15.4)\n",
      "Requirement already satisfied: matplotlib>=3.0.0 in /opt/conda/lib/python3.6/site-packages (from koalas) (3.1.1)\n",
      "Requirement already satisfied: pandas>=0.23.2 in /opt/conda/lib/python3.6/site-packages (from koalas) (0.23.4)\n",
      "Requirement already satisfied: six>=1.0.0 in /opt/conda/lib/python3.6/site-packages (from pyarrow<0.15,>=0.10->koalas) (1.12.0)\n",
      "Requirement already satisfied: kiwisolver>=1.0.1 in /opt/conda/lib/python3.6/site-packages (from matplotlib>=3.0.0->koalas) (1.0.1)\n",
      "Requirement already satisfied: cycler>=0.10 in /opt/conda/lib/python3.6/site-packages (from matplotlib>=3.0.0->koalas) (0.10.0)\n",
      "Requirement already satisfied: python-dateutil>=2.1 in /opt/conda/lib/python3.6/site-packages (from matplotlib>=3.0.0->koalas) (2.7.5)\n",
      "Requirement already satisfied: pyparsing!=2.0.4,!=2.1.2,!=2.1.6,>=2.0.1 in /opt/conda/lib/python3.6/site-packages (from matplotlib>=3.0.0->koalas) (2.3.0)\n",
      "Requirement already satisfied: pytz>=2011k in /opt/conda/lib/python3.6/site-packages (from pandas>=0.23.2->koalas) (2018.9)\n",
      "Requirement already satisfied: setuptools in /opt/conda/lib/python3.6/site-packages (from kiwisolver>=1.0.1->matplotlib>=3.0.0->koalas) (40.6.3)\n"
     ]
    }
   ],
   "source": [
    "!{sys.executable} -m pip install koalas"
   ]
  },
  {
   "cell_type": "code",
   "execution_count": 3,
   "metadata": {},
   "outputs": [],
   "source": [
    "import databricks.koalas as ks"
   ]
  },
  {
   "cell_type": "code",
   "execution_count": 4,
   "metadata": {},
   "outputs": [],
   "source": [
    "#read in the netflow data\n",
    "netflow_labeled = spark.read.csv('netflow_labeled.csv', header=True, inferSchema=True)"
   ]
  },
  {
   "cell_type": "code",
   "execution_count": 5,
   "metadata": {},
   "outputs": [],
   "source": [
    "from pyspark.sql.types import DoubleType\n",
    "netflow_labeled = netflow_labeled.withColumn(\"anomalous\", netflow_labeled[\"anomalous\"].cast(DoubleType()))\n",
    "#netflow_labeled = joindf.withColumn(\"anomalous\", joindf[\"show\"].cast(DoubleType()))"
   ]
  },
  {
   "cell_type": "code",
   "execution_count": 6,
   "metadata": {},
   "outputs": [
    {
     "data": {
      "text/plain": [
       "[('_c0', 'int'),\n",
       " ('dest_ip', 'string'),\n",
       " ('dest_port', 'int'),\n",
       " ('src_ip', 'string'),\n",
       " ('src_port', 'int'),\n",
       " ('app', 'string'),\n",
       " ('bytes', 'bigint'),\n",
       " ('bytes_in', 'int'),\n",
       " ('bytes_out', 'int'),\n",
       " ('timestamp', 'timestamp'),\n",
       " ('endtime', 'timestamp'),\n",
       " ('z_score', 'double'),\n",
       " ('large_upload', 'int'),\n",
       " ('private', 'double'),\n",
       " ('date', 'timestamp'),\n",
       " ('hour', 'int'),\n",
       " ('second', 'int'),\n",
       " ('bad_traffic', 'int'),\n",
       " ('bad_ports', 'int'),\n",
       " ('z_score_alpha', 'int'),\n",
       " ('bad_ip', 'int'),\n",
       " ('kmeans_feat', 'int'),\n",
       " ('anomalous', 'double')]"
      ]
     },
     "execution_count": 6,
     "metadata": {},
     "output_type": "execute_result"
    }
   ],
   "source": [
    "netflow_labeled.dtypes"
   ]
  },
  {
   "cell_type": "markdown",
   "metadata": {},
   "source": [
    "# IP Address String to Integer"
   ]
  },
  {
   "cell_type": "code",
   "execution_count": 13,
   "metadata": {},
   "outputs": [],
   "source": [
    "from pyspark.sql.functions import udf\n",
    "from pyspark.sql.types import DoubleType, IntegerType, LongType\n",
    "import ipaddress\n",
    "import math\n",
    "\n",
    "def IP_to_Int(ip):\n",
    "    address = int(ipaddress.IPv4Address(ip))\n",
    "    return address\n",
    "\n",
    "z_udf = udf(lambda z: IP_to_Int(z), LongType())"
   ]
  },
  {
   "cell_type": "code",
   "execution_count": 14,
   "metadata": {},
   "outputs": [],
   "source": [
    "netflow_labeled = netflow_labeled.select('*', z_udf(col(\"dest_ip\")).alias('dest_ip_int'))\n",
    "netflow_index = netflow_labeled.select('*', z_udf(\"src_ip\").alias('src_ip_int'))"
   ]
  },
  {
   "cell_type": "code",
   "execution_count": 15,
   "metadata": {},
   "outputs": [
    {
     "name": "stdout",
     "output_type": "stream",
     "text": [
      "+---+------------+---------+----------+--------+---------+-------+--------+---------+-----------------------+-----------------------+------------------+------------+-------+-------------------+----+------+-----------+---------+-------------+------+-----------+---------+-----------+----------+\n",
      "|_c0|dest_ip     |dest_port|src_ip    |src_port|app      |bytes  |bytes_in|bytes_out|timestamp              |endtime                |z_score           |large_upload|private|date               |hour|second|bad_traffic|bad_ports|z_score_alpha|bad_ip|kmeans_feat|anomalous|dest_ip_int|src_ip_int|\n",
      "+---+------------+---------+----------+--------+---------+-------+--------+---------+-----------------------+-----------------------+------------------+------------+-------+-------------------+----+------+-----------+---------+-------------+------+-----------+---------+-----------+----------+\n",
      "|0  |40.97.128.34|443      |10.0.2.109|58107   |office365|1441608|167497  |1274111  |2017-07-31 14:46:43.264|2017-08-01 01:09:22.761|0.4627635834505834|0           |1.0    |2017-07-31 00:00:00|14  |43    |0          |0        |0            |0     |0          |0.0      |677478434  |167772781 |\n",
      "|1  |40.97.128.34|443      |10.0.2.109|58107   |office365|1441608|167497  |1274111  |2017-07-31 21:46:43.264|2017-08-01 08:09:22.761|0.4627635834505834|0           |1.0    |2017-07-31 00:00:00|21  |43    |0          |0        |0            |0     |0          |0.0      |677478434  |167772781 |\n",
      "+---+------------+---------+----------+--------+---------+-------+--------+---------+-----------------------+-----------------------+------------------+------------+-------+-------------------+----+------+-----------+---------+-------------+------+-----------+---------+-----------+----------+\n",
      "only showing top 2 rows\n",
      "\n"
     ]
    }
   ],
   "source": [
    "netflow_index.show(2, False)"
   ]
  },
  {
   "cell_type": "markdown",
   "metadata": {},
   "source": [
    "# Split the dataframe with replacements"
   ]
  },
  {
   "cell_type": "markdown",
   "metadata": {},
   "source": [
    "#### Split the data "
   ]
  },
  {
   "cell_type": "code",
   "execution_count": 16,
   "metadata": {},
   "outputs": [],
   "source": [
    "#convert the dataframe to koalas... take 3 random samples\n",
    "training_df =  netflow_index.to_koalas().sample(frac=0.7, replace=True)\n",
    "validation_df = netflow_index.to_koalas().sample(frac=0.3, replace=True)\n",
    "testing_df = netflow_index.to_koalas().sample(frac=0.1, replace=True)"
   ]
  },
  {
   "cell_type": "code",
   "execution_count": 17,
   "metadata": {},
   "outputs": [
    {
     "name": "stdout",
     "output_type": "stream",
     "text": [
      "# points in training:  1426022\n",
      "# points in validation:  611692\n",
      "# points in testing:  204438\n"
     ]
    }
   ],
   "source": [
    "print(\"# points in training: \", len(training_df))\n",
    "print(\"# points in validation: \", len(validation_df))\n",
    "print(\"# points in testing: \", len(testing_df))"
   ]
  },
  {
   "cell_type": "code",
   "execution_count": 18,
   "metadata": {},
   "outputs": [],
   "source": [
    "training_df = training_df.to_spark()\n",
    "validation_df = validation_df.to_spark()\n",
    "testing_df = testing_df.to_spark()"
   ]
  },
  {
   "cell_type": "markdown",
   "metadata": {},
   "source": [
    "# Initial base_model Logitic Regression\n",
    "\n",
    "$$\n",
    "p(anomolous = 1) = f(\\text{dest_ip},  \\text{private}, \\text{dest_port}, \\text{src_ip}, \\text{src_port}, \\text{bytes}, \\text{hour})\n",
    "$$"
   ]
  },
  {
   "cell_type": "code",
   "execution_count": 19,
   "metadata": {},
   "outputs": [
    {
     "name": "stdout",
     "output_type": "stream",
     "text": [
      "['_c0', 'dest_ip', 'dest_port', 'src_ip', 'src_port', 'app', 'bytes', 'bytes_in', 'bytes_out', 'timestamp', 'endtime', 'z_score', 'large_upload', 'private', 'date', 'hour', 'second', 'bad_traffic', 'bad_ports', 'z_score_alpha', 'bad_ip', 'kmeans_feat', 'anomalous', 'dest_ip_int', 'src_ip_int']\n"
     ]
    }
   ],
   "source": [
    "print(netflow_index.columns)"
   ]
  },
  {
   "cell_type": "code",
   "execution_count": 20,
   "metadata": {},
   "outputs": [],
   "source": [
    "base_model = Pipeline(stages=[feature.VectorAssembler(inputCols=['bytes', 'hour', 'private', 'dest_ip_int', 'dest_port', 'src_ip_int', 'src_port'],outputCol='features'),\n",
    "                          classification.LogisticRegression(labelCol='anomalous', featuresCol='features')])"
   ]
  },
  {
   "cell_type": "markdown",
   "metadata": {},
   "source": [
    "#### Fit the training data into model 1"
   ]
  },
  {
   "cell_type": "code",
   "execution_count": 21,
   "metadata": {},
   "outputs": [],
   "source": [
    "base_model_fitted = base_model.fit(training_df)"
   ]
  },
  {
   "cell_type": "markdown",
   "metadata": {},
   "source": [
    "### ROC the curve"
   ]
  },
  {
   "cell_type": "code",
   "execution_count": 22,
   "metadata": {},
   "outputs": [
    {
     "data": {
      "image/png": "[encoded data removed]",
      "text/plain": [
       "<Figure size 432x288 with 1 Axes>"
      ]
     },
     "metadata": {
      "needs_background": "light"
     },
     "output_type": "display_data"
    },
    {
     "name": "stdout",
     "output_type": "stream",
     "text": [
      "Training set areaUnderROC: 0.9274086991382606\n"
     ]
    }
   ],
   "source": [
    "trainingSummary = base_model_fitted.stages[1].summary\n",
    "roc = trainingSummary.roc.toPandas()\n",
    "plt.plot(roc['FPR'],roc['TPR'])\n",
    "plt.ylabel('False Positive Rate')\n",
    "plt.xlabel('True Positive Rate')\n",
    "plt.title('ROC Curve')\n",
    "plt.show()\n",
    "print('Training set areaUnderROC: ' + str(trainingSummary.areaUnderROC))"
   ]
  },
  {
   "cell_type": "markdown",
   "metadata": {},
   "source": [
    "### Precision and Recall"
   ]
  },
  {
   "cell_type": "code",
   "execution_count": 23,
   "metadata": {},
   "outputs": [
    {
     "data": {
      "image/png": "[encoded data removed]",
      "text/plain": [
       "<Figure size 432x288 with 1 Axes>"
      ]
     },
     "metadata": {
      "needs_background": "light"
     },
     "output_type": "display_data"
    }
   ],
   "source": [
    "pr = trainingSummary.pr.toPandas()\n",
    "plt.plot(pr['recall'],pr['precision'])\n",
    "plt.ylabel('Precision')\n",
    "plt.xlabel('Recall')\n",
    "plt.show()"
   ]
  },
  {
   "cell_type": "markdown",
   "metadata": {},
   "source": [
    "### Get the AUC for the base_model"
   ]
  },
  {
   "cell_type": "markdown",
   "metadata": {},
   "source": [
    "#### Set the binary classifier to evaluate the labeled colun"
   ]
  },
  {
   "cell_type": "code",
   "execution_count": 24,
   "metadata": {},
   "outputs": [],
   "source": [
    "evaluator = BinaryClassificationEvaluator(labelCol='anomalous', metricName='areaUnderROC')"
   ]
  },
  {
   "cell_type": "markdown",
   "metadata": {},
   "source": [
    "#### Evaluate the model with the validation data frame"
   ]
  },
  {
   "cell_type": "code",
   "execution_count": 25,
   "metadata": {},
   "outputs": [
    {
     "data": {
      "text/plain": [
       "0.9286788855920136"
      ]
     },
     "execution_count": 25,
     "metadata": {},
     "output_type": "execute_result"
    }
   ],
   "source": [
    "#evaluated with validation dataframe\n",
    "evaluator.evaluate(base_model_fitted.transform(validation_df))"
   ]
  },
  {
   "cell_type": "markdown",
   "metadata": {},
   "source": [
    "#### Evaluate the model with the testing dataframe"
   ]
  },
  {
   "cell_type": "code",
   "execution_count": 26,
   "metadata": {},
   "outputs": [
    {
     "data": {
      "text/plain": [
       "0.9261810743521394"
      ]
     },
     "execution_count": 26,
     "metadata": {},
     "output_type": "execute_result"
    }
   ],
   "source": [
    "#evaluated with testing dataframe\n",
    "evaluator.evaluate(base_model_fitted.transform(testing_df))"
   ]
  },
  {
   "cell_type": "markdown",
   "metadata": {},
   "source": [
    "#### get the average of the labeled column"
   ]
  },
  {
   "cell_type": "code",
   "execution_count": 27,
   "metadata": {},
   "outputs": [
    {
     "name": "stdout",
     "output_type": "stream",
     "text": [
      "+--------------------+\n",
      "|      avg(anomalous)|\n",
      "+--------------------+\n",
      "|0.016817993259645996|\n",
      "+--------------------+\n",
      "\n"
     ]
    }
   ],
   "source": [
    "netflow_index.select(fn.avg('anomalous')).show()"
   ]
  },
  {
   "cell_type": "markdown",
   "metadata": {},
   "source": [
    "### Get the f1_score, accuracy measure"
   ]
  },
  {
   "cell_type": "markdown",
   "metadata": {},
   "source": [
    "#### Use the multiclassClassification evaluator for f1_score"
   ]
  },
  {
   "cell_type": "code",
   "execution_count": 28,
   "metadata": {},
   "outputs": [],
   "source": [
    "f1_evaluator = MulticlassClassificationEvaluator(predictionCol=\"prediction\", labelCol='anomalous', metricName='f1')"
   ]
  },
  {
   "cell_type": "markdown",
   "metadata": {},
   "source": [
    "##### f1 metric on validation dataframe with base_model_fitted"
   ]
  },
  {
   "cell_type": "code",
   "execution_count": 29,
   "metadata": {},
   "outputs": [
    {
     "data": {
      "text/plain": [
       "0.9785668015956449"
      ]
     },
     "execution_count": 29,
     "metadata": {},
     "output_type": "execute_result"
    }
   ],
   "source": [
    "f1_evaluator.evaluate(base_model_fitted.transform(validation_df))"
   ]
  },
  {
   "cell_type": "markdown",
   "metadata": {},
   "source": [
    "##### f1 metric on testing dataframe with base_model_fitted"
   ]
  },
  {
   "cell_type": "code",
   "execution_count": 30,
   "metadata": {},
   "outputs": [
    {
     "data": {
      "text/plain": [
       "0.9778923664004434"
      ]
     },
     "execution_count": 30,
     "metadata": {},
     "output_type": "execute_result"
    }
   ],
   "source": [
    "f1_evaluator.evaluate(base_model_fitted.transform(testing_df))"
   ]
  },
  {
   "cell_type": "markdown",
   "metadata": {},
   "source": [
    "#### Use the multiclassClassification evaluator accuracy"
   ]
  },
  {
   "cell_type": "code",
   "execution_count": 31,
   "metadata": {},
   "outputs": [],
   "source": [
    "accuracy_evaluator = MulticlassClassificationEvaluator(predictionCol=\"prediction\", labelCol='anomalous', metricName='accuracy')"
   ]
  },
  {
   "cell_type": "markdown",
   "metadata": {},
   "source": [
    "##### accuracy metric on validation dataframe with base_model_fitted"
   ]
  },
  {
   "cell_type": "code",
   "execution_count": 32,
   "metadata": {},
   "outputs": [
    {
     "data": {
      "text/plain": [
       "0.9840099265643494"
      ]
     },
     "execution_count": 32,
     "metadata": {},
     "output_type": "execute_result"
    }
   ],
   "source": [
    "accuracy_evaluator.evaluate(base_model_fitted.transform(validation_df))"
   ]
  },
  {
   "cell_type": "markdown",
   "metadata": {},
   "source": [
    "##### accuracy metric on testing dataframe with base_model_fitted"
   ]
  },
  {
   "cell_type": "code",
   "execution_count": 33,
   "metadata": {},
   "outputs": [
    {
     "data": {
      "text/plain": [
       "0.9834962189025523"
      ]
     },
     "execution_count": 33,
     "metadata": {},
     "output_type": "execute_result"
    }
   ],
   "source": [
    "accuracy_evaluator.evaluate(base_model_fitted.transform(testing_df))"
   ]
  },
  {
   "cell_type": "markdown",
   "metadata": {},
   "source": [
    "### Calculate RMSE for base_model with regressionEvaluator"
   ]
  },
  {
   "cell_type": "markdown",
   "metadata": {},
   "source": [
    "#### Set metricName = 'rmse'"
   ]
  },
  {
   "cell_type": "code",
   "execution_count": 34,
   "metadata": {},
   "outputs": [],
   "source": [
    "rmse_evaluator = RegressionEvaluator(predictionCol=\"prediction\", labelCol='anomalous', metricName='rmse')"
   ]
  },
  {
   "cell_type": "markdown",
   "metadata": {},
   "source": [
    "##### rmse for the validation dataframe on the base_model_fitted"
   ]
  },
  {
   "cell_type": "code",
   "execution_count": 35,
   "metadata": {},
   "outputs": [
    {
     "data": {
      "text/plain": [
       "0.12645186212804704"
      ]
     },
     "execution_count": 35,
     "metadata": {},
     "output_type": "execute_result"
    }
   ],
   "source": [
    "rmse_evaluator.evaluate(base_model_fitted.transform(validation_df))"
   ]
  },
  {
   "cell_type": "markdown",
   "metadata": {},
   "source": [
    "##### rmse for the testing dataframe on the base_model_fitted"
   ]
  },
  {
   "cell_type": "code",
   "execution_count": 36,
   "metadata": {},
   "outputs": [
    {
     "data": {
      "text/plain": [
       "0.12846704284542257"
      ]
     },
     "execution_count": 36,
     "metadata": {},
     "output_type": "execute_result"
    }
   ],
   "source": [
    "rmse_evaluator.evaluate(base_model_fitted.transform(testing_df))"
   ]
  },
  {
   "cell_type": "markdown",
   "metadata": {},
   "source": [
    "## Obtain the coefficients by using LogisticRegressionModel's attributes"
   ]
  },
  {
   "cell_type": "markdown",
   "metadata": {},
   "source": [
    "#### We can obtain the coefficients by using LogisticRegressionModel’s attributes."
   ]
  },
  {
   "cell_type": "code",
   "execution_count": 38,
   "metadata": {},
   "outputs": [
    {
     "data": {
      "text/plain": [
       "DenseVector([0.0, -0.1892, 22.761, -0.0, 0.0, -0.0, -0.0])"
      ]
     },
     "execution_count": 38,
     "metadata": {},
     "output_type": "execute_result"
    }
   ],
   "source": [
    "base_model_fitted.stages[1].coefficients"
   ]
  },
  {
   "cell_type": "code",
   "execution_count": 41,
   "metadata": {},
   "outputs": [],
   "source": [
    "coeff = np.sort(base_model_fitted.stages[1].coefficients)\n"
   ]
  },
  {
   "cell_type": "code",
   "execution_count": 42,
   "metadata": {},
   "outputs": [
    {
     "data": {
      "image/png": "[encoded data removed]",
      "text/plain": [
       "<Figure size 432x288 with 1 Axes>"
      ]
     },
     "metadata": {
      "needs_background": "light"
     },
     "output_type": "display_data"
    }
   ],
   "source": [
    "plt.plot(coeff)\n",
    "plt.ylabel('Coefficients')\n",
    "plt.show()"
   ]
  },
  {
   "cell_type": "code",
   "execution_count": 43,
   "metadata": {},
   "outputs": [],
   "source": [
    "# Evaluate on Training Set\n",
    "predictionAndLabels = base_model_fitted.transform(testing_df)   "
   ]
  },
  {
   "cell_type": "code",
   "execution_count": 44,
   "metadata": {},
   "outputs": [],
   "source": [
    "def evaluate(predictionAndLabels):\n",
    "    log = {}\n",
    "\n",
    "    # Show Validation Score (AUROC)\n",
    "    evaluator = BinaryClassificationEvaluator(labelCol='anomalous', metricName='areaUnderROC')\n",
    "    log['AUROC'] = \"%f\" % evaluator.evaluate(predictionAndLabels)    \n",
    "    print(\"Area under ROC = {}\".format(log['AUROC']))\n",
    "\n",
    "    # Show Validation Score (AUPR)\n",
    "    evaluator = BinaryClassificationEvaluator(labelCol='anomalous', metricName='areaUnderPR')\n",
    "    log['AUPR'] = \"%f\" % evaluator.evaluate(predictionAndLabels)\n",
    "    print(\"Area under PR = {}\".format(log['AUPR']))\n",
    "\n",
    "    # Metrics\n",
    "    predictionRDD = predictionAndLabels.select(['anomalous', 'prediction']) \\\n",
    "                            .rdd.map(lambda line: (line[1], line[0]))\n",
    "    metrics = MulticlassMetrics(predictionRDD)\n",
    "\n",
    "    # Confusion Matrix\n",
    "    print(metrics.confusionMatrix().toArray())\n",
    "\n",
    "    # Overall statistics\n",
    "    log['precision'] = \"%s\" % metrics.precision()\n",
    "    log['recall'] = \"%s\" % metrics.recall()\n",
    "    log['F1 Measure'] = \"%s\" % metrics.fMeasure()\n",
    "    print(\"[Overall]\\tprecision = %s | recall = %s | F1 Measure = %s\" % \\\n",
    "            (log['precision'], log['recall'], log['F1 Measure']))\n",
    "\n",
    "    # Statistics by class\n",
    "    labels = [0.0, 1.0]\n",
    "    for label in sorted(labels):\n",
    "        log[label] = {}\n",
    "        log[label]['precision'] = \"%s\" % metrics.precision(label)\n",
    "        log[label]['recall'] = \"%s\" % metrics.recall(label)\n",
    "        log[label]['F1 Measure'] = \"%s\" % metrics.fMeasure(label, \n",
    "                                                           beta=1.0)\n",
    "        print(\"[Class %s]\\tprecision = %s | recall = %s | F1 Measure = %s\" \\\n",
    "                  % (label, log[label]['precision'], \n",
    "                    log[label]['recall'], log[label]['F1 Measure']))\n",
    "\n",
    "    return log"
   ]
  },
  {
   "cell_type": "code",
   "execution_count": 45,
   "metadata": {
    "scrolled": false
   },
   "outputs": [
    {
     "name": "stdout",
     "output_type": "stream",
     "text": [
      "Area under ROC = 0.926181\n",
      "Area under PR = 0.404957\n",
      "[[200641.    239.]\n",
      " [  3135.    423.]]\n",
      "[Overall]\tprecision = 0.9834962189025523 | recall = 0.9834962189025523 | F1 Measure = 0.9834962189025523\n",
      "[Class 0.0]\tprecision = 0.9846154601130653 | recall = 0.998810234966149 | F1 Measure = 0.9916620536949904\n",
      "[Class 1.0]\tprecision = 0.6389728096676737 | recall = 0.11888701517706576 | F1 Measure = 0.2004739336492891\n"
     ]
    }
   ],
   "source": [
    "log = evaluate(predictionAndLabels)"
   ]
  },
  {
   "cell_type": "markdown",
   "metadata": {},
   "source": [
    "#### Transform the training data to see predictions"
   ]
  },
  {
   "cell_type": "code",
   "execution_count": null,
   "metadata": {},
   "outputs": [],
   "source": [
    "base_training_df = base_model_fitted.transform(training_df)"
   ]
  },
  {
   "cell_type": "code",
   "execution_count": null,
   "metadata": {},
   "outputs": [],
   "source": [
    "base_training_df.count()"
   ]
  },
  {
   "cell_type": "code",
   "execution_count": null,
   "metadata": {},
   "outputs": [],
   "source": [
    "base_training_df.where(\"prediction == 1\").count()"
   ]
  },
  {
   "cell_type": "code",
   "execution_count": null,
   "metadata": {},
   "outputs": [],
   "source": [
    "base_training_df.where(\"prediction == 1\").show(10)"
   ]
  },
  {
   "cell_type": "markdown",
   "metadata": {},
   "source": [
    "# Develop l3_model and test with L3 regularization"
   ]
  },
  {
   "cell_type": "code",
   "execution_count": 46,
   "metadata": {},
   "outputs": [],
   "source": [
    "#create logistic regression l3 regularization model\n",
    "#tfidf_pipeline.transform(sms_spam2_df)\n",
    "lambda_par = 0.02\n",
    "alpha_par = 0.2\n",
    "lr = classification.LogisticRegression().\\\n",
    "        setLabelCol('anomalous').\\\n",
    "        setFeaturesCol('features').\\\n",
    "        setRegParam(lambda_par).\\\n",
    "        setMaxIter(100).\\\n",
    "        setElasticNetParam(alpha_par)"
   ]
  },
  {
   "cell_type": "code",
   "execution_count": 47,
   "metadata": {},
   "outputs": [],
   "source": [
    "l3_model = Pipeline(stages=[feature.VectorAssembler(inputCols=['z_score_alpha', 'hour','private', 'dest_ip_int', 'dest_port', 'src_ip_int', 'src_port'],outputCol='features'),\n",
    "                          lr])"
   ]
  },
  {
   "cell_type": "markdown",
   "metadata": {},
   "source": [
    "#### Fit the training data into model 1"
   ]
  },
  {
   "cell_type": "code",
   "execution_count": 48,
   "metadata": {},
   "outputs": [],
   "source": [
    "l3_model_fitted = l3_model.fit(training_df)"
   ]
  },
  {
   "cell_type": "markdown",
   "metadata": {},
   "source": [
    "#### Set the binary classifier to evaluate the labeled colun"
   ]
  },
  {
   "cell_type": "code",
   "execution_count": 49,
   "metadata": {},
   "outputs": [],
   "source": [
    "evaluator = BinaryClassificationEvaluator(labelCol='anomalous')"
   ]
  },
  {
   "cell_type": "markdown",
   "metadata": {},
   "source": [
    "#### Evaluate the model with the validation data frame"
   ]
  },
  {
   "cell_type": "code",
   "execution_count": 50,
   "metadata": {},
   "outputs": [
    {
     "data": {
      "text/plain": [
       "0.9014405604076476"
      ]
     },
     "execution_count": 50,
     "metadata": {},
     "output_type": "execute_result"
    }
   ],
   "source": [
    "#evaluated with validation dataframe\n",
    "evaluator.evaluate(l3_model_fitted.transform(validation_df))"
   ]
  },
  {
   "cell_type": "markdown",
   "metadata": {},
   "source": [
    "#### Evaluate the model with the testing dataframe"
   ]
  },
  {
   "cell_type": "code",
   "execution_count": 51,
   "metadata": {},
   "outputs": [
    {
     "data": {
      "text/plain": [
       "0.8988041466619496"
      ]
     },
     "execution_count": 51,
     "metadata": {},
     "output_type": "execute_result"
    }
   ],
   "source": [
    "#evaluated with testing dataframe\n",
    "evaluator.evaluate(l3_model_fitted.transform(testing_df))"
   ]
  },
  {
   "cell_type": "code",
   "execution_count": 52,
   "metadata": {},
   "outputs": [],
   "source": [
    "# Evaluate on Training Set\n",
    "predictionAndLabels = l3_model_fitted.transform(testing_df)   "
   ]
  },
  {
   "cell_type": "code",
   "execution_count": 53,
   "metadata": {
    "scrolled": false
   },
   "outputs": [
    {
     "name": "stdout",
     "output_type": "stream",
     "text": [
      "Area under ROC = 0.898804\n",
      "Area under PR = 0.397126\n",
      "[[200880.      0.]\n",
      " [  3196.    362.]]\n",
      "[Overall]\tprecision = 0.9843668985218013 | recall = 0.9843668985218013 | F1 Measure = 0.9843668985218013\n",
      "[Class 0.0]\tprecision = 0.9843391677610303 | recall = 1.0 | F1 Measure = 0.9921077845494326\n",
      "[Class 1.0]\tprecision = 1.0 | recall = 0.1017425519955031 | F1 Measure = 0.18469387755102043\n"
     ]
    },
    {
     "data": {
      "text/plain": [
       "{'AUROC': '0.898804',\n",
       " 'AUPR': '0.397126',\n",
       " 'precision': '0.9843668985218013',\n",
       " 'recall': '0.9843668985218013',\n",
       " 'F1 Measure': '0.9843668985218013',\n",
       " 0.0: {'precision': '0.9843391677610303',\n",
       "  'recall': '1.0',\n",
       "  'F1 Measure': '0.9921077845494326'},\n",
       " 1.0: {'precision': '1.0',\n",
       "  'recall': '0.1017425519955031',\n",
       "  'F1 Measure': '0.18469387755102043'}}"
      ]
     },
     "execution_count": 53,
     "metadata": {},
     "output_type": "execute_result"
    }
   ],
   "source": [
    "evaluate(predictionAndLabels)"
   ]
  },
  {
   "cell_type": "code",
   "execution_count": null,
   "metadata": {},
   "outputs": [],
   "source": []
  },
  {
   "cell_type": "markdown",
   "metadata": {},
   "source": [
    "# Decision Tree (d_tree)"
   ]
  },
  {
   "cell_type": "markdown",
   "metadata": {},
   "source": [
    "#### Need to remove encoded values because they are to long for Decision Tree to bin"
   ]
  },
  {
   "cell_type": "code",
   "execution_count": 54,
   "metadata": {},
   "outputs": [],
   "source": [
    "d_tree_model = Pipeline(stages=[feature.VectorAssembler(inputCols=['z_score_alpha', 'hour','private', 'dest_ip_int', 'dest_port', 'src_ip_int', 'src_port'],outputCol='features'),\n",
    "                          DecisionTreeClassifier(featuresCol = 'features', labelCol = 'anomalous', maxDepth = 3)])"
   ]
  },
  {
   "cell_type": "markdown",
   "metadata": {},
   "source": [
    "#### Fit the training data into d_tree model"
   ]
  },
  {
   "cell_type": "code",
   "execution_count": 55,
   "metadata": {},
   "outputs": [],
   "source": [
    "d_tree_fitted = d_tree_model.fit(training_df)\n",
    "predictions = d_tree_fitted.transform(validation_df)\n"
   ]
  },
  {
   "cell_type": "code",
   "execution_count": 56,
   "metadata": {},
   "outputs": [
    {
     "name": "stdout",
     "output_type": "stream",
     "text": [
      "+----+-------------+---------+------------+--------+-----+--------+--------+---------+--------------------+--------------------+-----------------+------------+-------+-------------------+----+------+-----------+---------+-------------+------+-----------+---------+-----------+----------+--------------------+-------------+-----------+----------+\n",
      "| _c0|      dest_ip|dest_port|      src_ip|src_port|  app|   bytes|bytes_in|bytes_out|           timestamp|             endtime|          z_score|large_upload|private|               date|hour|second|bad_traffic|bad_ports|z_score_alpha|bad_ip|kmeans_feat|anomalous|dest_ip_int|src_ip_int|            features|rawPrediction|probability|prediction|\n",
      "+----+-------------+---------+------------+--------+-----+--------+--------+---------+--------------------+--------------------+-----------------+------------+-------+-------------------+----+------+-----------+---------+-------------+------+-----------+---------+-----------+----------+--------------------+-------------+-----------+----------+\n",
      "|1307| 172.31.4.249|     3306|52.40.10.231|   41479|mysql|20419145|  434050| 19985095|2017-08-01 01:38:...|2017-08-01 01:58:...|6.880713729739129|           0|    1.0|2017-08-01 00:00:00|   1|    12|          0|        0|            1|     0|          3|      1.0| 2887714041| 875039463|[1.0,1.0,1.0,2.88...| [0.0,2419.0]|  [0.0,1.0]|       1.0|\n",
      "|2113|52.42.208.228|     3306|172.31.10.10|   37954|  ssl|20934703|  454211| 20480492|2017-08-01 02:31:...|2017-08-01 03:01:...|7.055068575761569|           0|    1.0|2017-08-01 00:00:00|   2|    26|          0|        0|            1|     0|          3|      1.0|  875221220|2887715338|[1.0,2.0,1.0,8.75...| [0.0,2419.0]|  [0.0,1.0]|       1.0|\n",
      "+----+-------------+---------+------------+--------+-----+--------+--------+---------+--------------------+--------------------+-----------------+------------+-------+-------------------+----+------+-----------+---------+-------------+------+-----------+---------+-----------+----------+--------------------+-------------+-----------+----------+\n",
      "only showing top 2 rows\n",
      "\n"
     ]
    }
   ],
   "source": [
    "predictions.where('prediction = 1').show(2)"
   ]
  },
  {
   "cell_type": "code",
   "execution_count": 57,
   "metadata": {},
   "outputs": [
    {
     "name": "stdout",
     "output_type": "stream",
     "text": [
      "Validation Area Under ROC: 0.4515216543113539\n"
     ]
    }
   ],
   "source": [
    "print(\"Validation Area Under ROC: \" + str(evaluator.evaluate(predictions, {evaluator.metricName: \"areaUnderROC\"})))"
   ]
  },
  {
   "cell_type": "code",
   "execution_count": 58,
   "metadata": {},
   "outputs": [],
   "source": [
    "# Evaluate on Training Set\n",
    "predictionAndLabels = d_tree_fitted.transform(testing_df)   "
   ]
  },
  {
   "cell_type": "code",
   "execution_count": 59,
   "metadata": {
    "scrolled": false
   },
   "outputs": [
    {
     "name": "stdout",
     "output_type": "stream",
     "text": [
      "Area under ROC = 0.449129\n",
      "Area under PR = 0.015749\n",
      "[[200880.      0.]\n",
      " [  3196.    362.]]\n",
      "[Overall]\tprecision = 0.9843668985218013 | recall = 0.9843668985218013 | F1 Measure = 0.9843668985218013\n",
      "[Class 0.0]\tprecision = 0.9843391677610303 | recall = 1.0 | F1 Measure = 0.9921077845494326\n",
      "[Class 1.0]\tprecision = 1.0 | recall = 0.1017425519955031 | F1 Measure = 0.18469387755102043\n"
     ]
    },
    {
     "data": {
      "text/plain": [
       "{'AUROC': '0.449129',\n",
       " 'AUPR': '0.015749',\n",
       " 'precision': '0.9843668985218013',\n",
       " 'recall': '0.9843668985218013',\n",
       " 'F1 Measure': '0.9843668985218013',\n",
       " 0.0: {'precision': '0.9843391677610303',\n",
       "  'recall': '1.0',\n",
       "  'F1 Measure': '0.9921077845494326'},\n",
       " 1.0: {'precision': '1.0',\n",
       "  'recall': '0.1017425519955031',\n",
       "  'F1 Measure': '0.18469387755102043'}}"
      ]
     },
     "execution_count": 59,
     "metadata": {},
     "output_type": "execute_result"
    }
   ],
   "source": [
    "evaluate(predictionAndLabels)"
   ]
  },
  {
   "cell_type": "code",
   "execution_count": null,
   "metadata": {},
   "outputs": [],
   "source": []
  },
  {
   "cell_type": "markdown",
   "metadata": {},
   "source": [
    "# Random Forest"
   ]
  },
  {
   "cell_type": "code",
   "execution_count": 60,
   "metadata": {},
   "outputs": [],
   "source": [
    "from pyspark.ml.classification import RandomForestClassifier\n"
   ]
  },
  {
   "cell_type": "code",
   "execution_count": 61,
   "metadata": {},
   "outputs": [],
   "source": [
    "rf_model = Pipeline(stages=[feature.VectorAssembler(inputCols=['z_score_alpha', 'hour','private', 'dest_ip_int', 'dest_port', 'src_ip_int', 'src_port'],outputCol='features'),\n",
    "                          RandomForestClassifier(featuresCol = 'features', labelCol = 'anomalous')])"
   ]
  },
  {
   "cell_type": "code",
   "execution_count": 62,
   "metadata": {},
   "outputs": [],
   "source": [
    "rf_model_fitted = rf_model.fit(training_df)\n",
    "predictions = rf_model_fitted.transform(validation_df)\n"
   ]
  },
  {
   "cell_type": "code",
   "execution_count": null,
   "metadata": {},
   "outputs": [],
   "source": [
    "#AUC"
   ]
  },
  {
   "cell_type": "code",
   "execution_count": 63,
   "metadata": {},
   "outputs": [
    {
     "name": "stdout",
     "output_type": "stream",
     "text": [
      "Test Area Under ROC: 0.9843346416642715\n"
     ]
    }
   ],
   "source": [
    "print(\"Test Area Under ROC: \" + str(evaluator.evaluate(predictions, {evaluator.metricName: \"areaUnderROC\"})))"
   ]
  },
  {
   "cell_type": "code",
   "execution_count": 64,
   "metadata": {},
   "outputs": [],
   "source": [
    "# Evaluate on Training Set\n",
    "predictionAndLabels = rf_model_fitted.transform(testing_df)   "
   ]
  },
  {
   "cell_type": "code",
   "execution_count": 65,
   "metadata": {
    "scrolled": false
   },
   "outputs": [
    {
     "name": "stdout",
     "output_type": "stream",
     "text": [
      "Area under ROC = 0.983981\n",
      "Area under PR = 0.815503\n",
      "[[2.00753e+05 1.27000e+02]\n",
      " [9.79000e+02 2.57900e+03]]\n",
      "[Overall]\tprecision = 0.9945900468601727 | recall = 0.9945900468601727 | F1 Measure = 0.9945900468601727\n",
      "[Class 0.0]\tprecision = 0.9951470267483592 | recall = 0.9993677817602549 | F1 Measure = 0.9972529383128174\n",
      "[Class 1.0]\tprecision = 0.9530672579453068 | recall = 0.7248454187745925 | F1 Measure = 0.8234355044699873\n"
     ]
    },
    {
     "data": {
      "text/plain": [
       "{'AUROC': '0.983981',\n",
       " 'AUPR': '0.815503',\n",
       " 'precision': '0.9945900468601727',\n",
       " 'recall': '0.9945900468601727',\n",
       " 'F1 Measure': '0.9945900468601727',\n",
       " 0.0: {'precision': '0.9951470267483592',\n",
       "  'recall': '0.9993677817602549',\n",
       "  'F1 Measure': '0.9972529383128174'},\n",
       " 1.0: {'precision': '0.9530672579453068',\n",
       "  'recall': '0.7248454187745925',\n",
       "  'F1 Measure': '0.8234355044699873'}}"
      ]
     },
     "execution_count": 65,
     "metadata": {},
     "output_type": "execute_result"
    }
   ],
   "source": [
    "evaluate(predictionAndLabels)"
   ]
  },
  {
   "cell_type": "markdown",
   "metadata": {},
   "source": [
    "### ROC the curve for Random Forest"
   ]
  },
  {
   "cell_type": "code",
   "execution_count": 75,
   "metadata": {},
   "outputs": [
    {
     "data": {
      "image/png": "[encoded data removed]",
      "text/plain": [
       "<Figure size 432x288 with 1 Axes>"
      ]
     },
     "metadata": {
      "needs_background": "light"
     },
     "output_type": "display_data"
    },
    {
     "data": {
      "image/png": "[encoded data removed]",
      "text/plain": [
       "<Figure size 432x288 with 1 Axes>"
      ]
     },
     "metadata": {
      "needs_background": "light"
     },
     "output_type": "display_data"
    }
   ],
   "source": [
    "all_probs = predictionAndLabels.select(\"probability\").collect()\n",
    "pos_probs = [i[0][0] for i in all_probs]\n",
    "neg_probs = [i[0][1] for i in all_probs]\n",
    " \n",
    "from matplotlib import pyplot as plt\n",
    "%matplotlib inline\n",
    " \n",
    "# pos\n",
    "plt.hist(pos_probs, 50, density=1, facecolor='green', alpha=0.75)\n",
    "plt.xlabel('predicted_values')\n",
    "plt.ylabel('Counts')\n",
    "plt.title('Probabilities for positive cases')\n",
    "plt.grid(True)\n",
    "plt.show()\n",
    " \n",
    "# neg\n",
    "plt.hist(neg_probs, 50, density=1, facecolor='green', alpha=0.75)\n",
    "plt.xlabel('predicted_values')\n",
    "plt.ylabel('Counts')\n",
    "plt.title('Probabilities for negative cases')\n",
    "plt.grid(True)\n",
    "plt.show()"
   ]
  },
  {
   "cell_type": "code",
   "execution_count": null,
   "metadata": {},
   "outputs": [],
   "source": []
  },
  {
   "cell_type": "code",
   "execution_count": null,
   "metadata": {},
   "outputs": [],
   "source": []
  },
  {
   "cell_type": "markdown",
   "metadata": {},
   "source": [
    "## Naive Bayes model"
   ]
  },
  {
   "cell_type": "markdown",
   "metadata": {},
   "source": [
    "#### Naive Bayes classifier is one of the most straightforward multiclass classification algorithms, which can be applied to the multiclass classification task, with the assumption of independence between every pair of features. It can be trained very efficiently. For this algorithm, we will use the same previously prepared dataframe as in the previous models."
   ]
  },
  {
   "cell_type": "code",
   "execution_count": 66,
   "metadata": {},
   "outputs": [],
   "source": [
    "from pyspark.ml.classification import NaiveBayes"
   ]
  },
  {
   "cell_type": "code",
   "execution_count": 67,
   "metadata": {},
   "outputs": [],
   "source": [
    "nb_pipe_model = Pipeline(stages=[feature.VectorAssembler(inputCols=['z_score_alpha', 'hour','private', 'dest_ip_int', 'dest_port', 'src_ip_int', 'src_port'],outputCol='features'),\n",
    "                          NaiveBayes(labelCol=\"anomalous\", featuresCol=\"features\", smoothing=1.0, modelType=\"multinomial\")])"
   ]
  },
  {
   "cell_type": "code",
   "execution_count": 68,
   "metadata": {},
   "outputs": [],
   "source": [
    "nb_model_fitted = nb_pipe_model.fit(training_df)"
   ]
  },
  {
   "cell_type": "code",
   "execution_count": 69,
   "metadata": {},
   "outputs": [],
   "source": [
    "predictions = nb_model_fitted.transform(validation_df)"
   ]
  },
  {
   "cell_type": "code",
   "execution_count": 70,
   "metadata": {},
   "outputs": [
    {
     "name": "stdout",
     "output_type": "stream",
     "text": [
      "Test Area Under ROC: 0.5588358902024755\n"
     ]
    }
   ],
   "source": [
    "print(\"Test Area Under ROC: \" + str(evaluator.evaluate(predictions, {evaluator.metricName: \"areaUnderROC\"})))"
   ]
  },
  {
   "cell_type": "code",
   "execution_count": 71,
   "metadata": {},
   "outputs": [],
   "source": [
    "# Evaluate on Training Set\n",
    "predictionAndLabels = nb_model_fitted.transform(testing_df)   "
   ]
  },
  {
   "cell_type": "code",
   "execution_count": 72,
   "metadata": {
    "scrolled": false
   },
   "outputs": [
    {
     "name": "stdout",
     "output_type": "stream",
     "text": [
      "Area under ROC = 0.554569\n",
      "Area under PR = 0.019126\n",
      "[[101387.  99493.]\n",
      " [  3209.    349.]]\n",
      "[Overall]\tprecision = 0.4976374255275438 | recall = 0.4976374255275438 | F1 Measure = 0.4976374255275438\n",
      "[Class 0.0]\tprecision = 0.9693200504799419 | recall = 0.5047142572680207 | F1 Measure = 0.6637968285560895\n",
      "[Class 1.0]\tprecision = 0.003495522926223433 | recall = 0.09808881394041596 | F1 Measure = 0.006750483558994198\n"
     ]
    },
    {
     "data": {
      "text/plain": [
       "{'AUROC': '0.554569',\n",
       " 'AUPR': '0.019126',\n",
       " 'precision': '0.4976374255275438',\n",
       " 'recall': '0.4976374255275438',\n",
       " 'F1 Measure': '0.4976374255275438',\n",
       " 0.0: {'precision': '0.9693200504799419',\n",
       "  'recall': '0.5047142572680207',\n",
       "  'F1 Measure': '0.6637968285560895'},\n",
       " 1.0: {'precision': '0.003495522926223433',\n",
       "  'recall': '0.09808881394041596',\n",
       "  'F1 Measure': '0.006750483558994198'}}"
      ]
     },
     "execution_count": 72,
     "metadata": {},
     "output_type": "execute_result"
    }
   ],
   "source": [
    "evaluate(predictionAndLabels)"
   ]
  },
  {
   "cell_type": "code",
   "execution_count": null,
   "metadata": {},
   "outputs": [],
   "source": []
  },
  {
   "cell_type": "markdown",
   "metadata": {},
   "source": [
    "# Read in Testing Dataset"
   ]
  },
  {
   "cell_type": "code",
   "execution_count": 7,
   "metadata": {},
   "outputs": [],
   "source": [
    "#read in the netflow data\n",
    "netflow_v1 = spark.read.csv('netflowv1_labeled.csv', header=True, inferSchema=True)"
   ]
  },
  {
   "cell_type": "code",
   "execution_count": 8,
   "metadata": {},
   "outputs": [],
   "source": [
    "netflow_v1 = netflow_v1.to_koalas()"
   ]
  },
  {
   "cell_type": "code",
   "execution_count": 9,
   "metadata": {},
   "outputs": [
    {
     "data": {
      "text/html": [
       "<div>\n",
       "<style scoped>\n",
       "    .dataframe tbody tr th:only-of-type {\n",
       "        vertical-align: middle;\n",
       "    }\n",
       "\n",
       "    .dataframe tbody tr th {\n",
       "        vertical-align: top;\n",
       "    }\n",
       "\n",
       "    .dataframe thead th {\n",
       "        text-align: right;\n",
       "    }\n",
       "</style>\n",
       "<table border=\"1\" class=\"dataframe\">\n",
       "  <thead>\n",
       "    <tr style=\"text-align: right;\">\n",
       "      <th></th>\n",
       "      <th>bytes</th>\n",
       "      <th>src_ip</th>\n",
       "      <th>src_port</th>\n",
       "      <th>bytes_in</th>\n",
       "      <th>dest_ip</th>\n",
       "      <th>dest_port</th>\n",
       "      <th>bytes_out</th>\n",
       "      <th>bad_ports</th>\n",
       "      <th>large_upload</th>\n",
       "      <th>z_score</th>\n",
       "      <th>z_score_alpha</th>\n",
       "      <th>bad_ip</th>\n",
       "      <th>anomalous</th>\n",
       "      <th>timestart</th>\n",
       "      <th>timeend</th>\n",
       "      <th>hour</th>\n",
       "      <th>minute</th>\n",
       "      <th>private</th>\n",
       "      <th>dest_ip_int</th>\n",
       "      <th>src_ip_int</th>\n",
       "    </tr>\n",
       "  </thead>\n",
       "  <tbody>\n",
       "    <tr>\n",
       "      <th>0</th>\n",
       "      <td>5978</td>\n",
       "      <td>192.168.228.105</td>\n",
       "      <td>37119</td>\n",
       "      <td>2463</td>\n",
       "      <td>192.168.224.78</td>\n",
       "      <td>8089</td>\n",
       "      <td>3515</td>\n",
       "      <td>0</td>\n",
       "      <td>0</td>\n",
       "      <td>-0.037824</td>\n",
       "      <td>0</td>\n",
       "      <td>0</td>\n",
       "      <td>0</td>\n",
       "      <td>2016-08-28T235857</td>\n",
       "      <td>2016-08-28T235857</td>\n",
       "      <td>23</td>\n",
       "      <td>58</td>\n",
       "      <td>0</td>\n",
       "      <td>3232292942</td>\n",
       "      <td>3232293993</td>\n",
       "    </tr>\n",
       "    <tr>\n",
       "      <th>1</th>\n",
       "      <td>5377</td>\n",
       "      <td>192.168.225.88</td>\n",
       "      <td>47224</td>\n",
       "      <td>2092</td>\n",
       "      <td>192.168.228.88</td>\n",
       "      <td>8089</td>\n",
       "      <td>3285</td>\n",
       "      <td>0</td>\n",
       "      <td>0</td>\n",
       "      <td>-0.038352</td>\n",
       "      <td>0</td>\n",
       "      <td>0</td>\n",
       "      <td>0</td>\n",
       "      <td>2016-08-28T235854</td>\n",
       "      <td>2016-08-28T235854</td>\n",
       "      <td>23</td>\n",
       "      <td>58</td>\n",
       "      <td>0</td>\n",
       "      <td>3232293976</td>\n",
       "      <td>3232293208</td>\n",
       "    </tr>\n",
       "    <tr>\n",
       "      <th>2</th>\n",
       "      <td>9333</td>\n",
       "      <td>192.168.225.234</td>\n",
       "      <td>25022</td>\n",
       "      <td>1579</td>\n",
       "      <td>23.203.184.161</td>\n",
       "      <td>443</td>\n",
       "      <td>7754</td>\n",
       "      <td>0</td>\n",
       "      <td>0</td>\n",
       "      <td>-0.034875</td>\n",
       "      <td>0</td>\n",
       "      <td>0</td>\n",
       "      <td>0</td>\n",
       "      <td>2016-08-28T235852</td>\n",
       "      <td>2016-08-28T235852</td>\n",
       "      <td>23</td>\n",
       "      <td>58</td>\n",
       "      <td>1</td>\n",
       "      <td>399227041</td>\n",
       "      <td>3232293354</td>\n",
       "    </tr>\n",
       "    <tr>\n",
       "      <th>3</th>\n",
       "      <td>6723</td>\n",
       "      <td>192.168.228.69</td>\n",
       "      <td>55949</td>\n",
       "      <td>2994</td>\n",
       "      <td>192.168.229.165</td>\n",
       "      <td>8089</td>\n",
       "      <td>3729</td>\n",
       "      <td>0</td>\n",
       "      <td>0</td>\n",
       "      <td>-0.037169</td>\n",
       "      <td>0</td>\n",
       "      <td>0</td>\n",
       "      <td>0</td>\n",
       "      <td>2016-08-28T235851</td>\n",
       "      <td>2016-08-28T235851</td>\n",
       "      <td>23</td>\n",
       "      <td>58</td>\n",
       "      <td>0</td>\n",
       "      <td>3232294309</td>\n",
       "      <td>3232293957</td>\n",
       "    </tr>\n",
       "    <tr>\n",
       "      <th>4</th>\n",
       "      <td>6010</td>\n",
       "      <td>192.168.226.142</td>\n",
       "      <td>3322</td>\n",
       "      <td>2463</td>\n",
       "      <td>192.168.224.47</td>\n",
       "      <td>8089</td>\n",
       "      <td>3547</td>\n",
       "      <td>0</td>\n",
       "      <td>0</td>\n",
       "      <td>-0.037795</td>\n",
       "      <td>0</td>\n",
       "      <td>0</td>\n",
       "      <td>0</td>\n",
       "      <td>2016-08-28T235849</td>\n",
       "      <td>2016-08-28T235849</td>\n",
       "      <td>23</td>\n",
       "      <td>58</td>\n",
       "      <td>0</td>\n",
       "      <td>3232292911</td>\n",
       "      <td>3232293518</td>\n",
       "    </tr>\n",
       "  </tbody>\n",
       "</table>\n",
       "</div>"
      ],
      "text/plain": [
       "   bytes           src_ip  src_port  bytes_in          dest_ip  dest_port  bytes_out  bad_ports  large_upload   z_score  z_score_alpha  bad_ip  anomalous          timestart            timeend  hour  minute  private  dest_ip_int  src_ip_int\n",
       "0   5978  192.168.228.105     37119      2463   192.168.224.78       8089       3515          0             0 -0.037824              0       0          0  2016-08-28T235857  2016-08-28T235857    23      58        0   3232292942  3232293993\n",
       "1   5377   192.168.225.88     47224      2092   192.168.228.88       8089       3285          0             0 -0.038352              0       0          0  2016-08-28T235854  2016-08-28T235854    23      58        0   3232293976  3232293208\n",
       "2   9333  192.168.225.234     25022      1579   23.203.184.161        443       7754          0             0 -0.034875              0       0          0  2016-08-28T235852  2016-08-28T235852    23      58        1    399227041  3232293354\n",
       "3   6723   192.168.228.69     55949      2994  192.168.229.165       8089       3729          0             0 -0.037169              0       0          0  2016-08-28T235851  2016-08-28T235851    23      58        0   3232294309  3232293957\n",
       "4   6010  192.168.226.142      3322      2463   192.168.224.47       8089       3547          0             0 -0.037795              0       0          0  2016-08-28T235849  2016-08-28T235849    23      58        0   3232292911  3232293518"
      ]
     },
     "execution_count": 9,
     "metadata": {},
     "output_type": "execute_result"
    }
   ],
   "source": [
    "netflow_v1.head()"
   ]
  },
  {
   "cell_type": "code",
   "execution_count": 10,
   "metadata": {},
   "outputs": [],
   "source": [
    "netflow_v1['anomalous'] = netflow_v1['anomalous'].astype(\"double\")"
   ]
  },
  {
   "cell_type": "code",
   "execution_count": 11,
   "metadata": {},
   "outputs": [],
   "source": [
    "netflowV1 = netflow_v1.to_spark()"
   ]
  },
  {
   "cell_type": "code",
   "execution_count": 12,
   "metadata": {},
   "outputs": [
    {
     "data": {
      "text/plain": [
       "[('bytes', 'int'),\n",
       " ('src_ip', 'string'),\n",
       " ('src_port', 'int'),\n",
       " ('bytes_in', 'int'),\n",
       " ('dest_ip', 'string'),\n",
       " ('dest_port', 'int'),\n",
       " ('bytes_out', 'int'),\n",
       " ('bad_ports', 'int'),\n",
       " ('large_upload', 'int'),\n",
       " ('z_score', 'double'),\n",
       " ('z_score_alpha', 'int'),\n",
       " ('bad_ip', 'int'),\n",
       " ('anomalous', 'double'),\n",
       " ('timestart', 'string'),\n",
       " ('timeend', 'string'),\n",
       " ('hour', 'int'),\n",
       " ('minute', 'int'),\n",
       " ('private', 'int'),\n",
       " ('dest_ip_int', 'bigint'),\n",
       " ('src_ip_int', 'bigint')]"
      ]
     },
     "execution_count": 12,
     "metadata": {},
     "output_type": "execute_result"
    }
   ],
   "source": [
    "netflowV1.dtypes"
   ]
  },
  {
   "cell_type": "markdown",
   "metadata": {},
   "source": [
    "# Need to make the destination and sources addresses and ports integers before applying the test model"
   ]
  },
  {
   "cell_type": "markdown",
   "metadata": {},
   "source": [
    "### Use the udf for ip address to int"
   ]
  },
  {
   "cell_type": "code",
   "execution_count": 179,
   "metadata": {},
   "outputs": [],
   "source": [
    "netflowV1 = netflowV1.select('*', z_udf(col(\"dest_ip\")).alias('dest_ip_int'))\n",
    "netflowV1 = netflowV1.select('*', z_udf(\"src_ip\").alias('src_ip_int'))"
   ]
  },
  {
   "cell_type": "code",
   "execution_count": 181,
   "metadata": {},
   "outputs": [
    {
     "name": "stdout",
     "output_type": "stream",
     "text": [
      "[('endtime', 'string'), ('timestamp', 'string'), ('bytes', 'int'), ('src_ip', 'string'), ('src_port', 'int'), ('bytes_in', 'int'), ('dest_ip', 'string'), ('dest_port', 'int'), ('bytes_out', 'int'), ('bad_ports', 'int'), ('large_upload', 'int'), ('z_score', 'double'), ('z_score_alpha', 'int'), ('bad_ip', 'int'), ('anomalous', 'int'), ('timestart', 'string'), ('timeend', 'string'), ('hour', 'int'), ('minute', 'int'), ('private', 'double'), ('dest_ip_int', 'bigint'), ('src_ip_int', 'bigint')]\n"
     ]
    }
   ],
   "source": [
    "print(netflowV1.dtypes)"
   ]
  },
  {
   "cell_type": "code",
   "execution_count": 184,
   "metadata": {},
   "outputs": [],
   "source": [
    "base_model = Pipeline(stages=[feature.VectorAssembler(inputCols=['z_score_alpha', 'hour','private', 'dest_ip_int', 'dest_port', 'src_ip_int', 'src_port'],outputCol='features'),\n",
    "                          classification.LogisticRegression(labelCol='anomalous', featuresCol='features')])"
   ]
  },
  {
   "cell_type": "markdown",
   "metadata": {},
   "source": [
    "#### Fit the training data into model 1"
   ]
  },
  {
   "cell_type": "code",
   "execution_count": 236,
   "metadata": {},
   "outputs": [],
   "source": [
    "base_model_fitted = base_model.fit(training_df)"
   ]
  },
  {
   "cell_type": "markdown",
   "metadata": {},
   "source": [
    "#### Evaluate the model with the validation data frame"
   ]
  },
  {
   "cell_type": "code",
   "execution_count": 198,
   "metadata": {},
   "outputs": [
    {
     "data": {
      "text/plain": [
       "0.9263853819535347"
      ]
     },
     "execution_count": 198,
     "metadata": {},
     "output_type": "execute_result"
    }
   ],
   "source": [
    "#evaluated with validation dataframe\n",
    "evaluator.evaluate(base_model_fitted.transform(validation_df))"
   ]
  },
  {
   "cell_type": "markdown",
   "metadata": {},
   "source": [
    "#### Evaluate model with the bots_v1 test set"
   ]
  },
  {
   "cell_type": "code",
   "execution_count": 237,
   "metadata": {},
   "outputs": [
    {
     "data": {
      "text/plain": [
       "0.9030388530018225"
      ]
     },
     "execution_count": 237,
     "metadata": {},
     "output_type": "execute_result"
    }
   ],
   "source": [
    "#evaluated with validation dataframe\n",
    "evaluator.evaluate(base_model_fitted.transform(netflowV1))"
   ]
  },
  {
   "cell_type": "code",
   "execution_count": null,
   "metadata": {
    "deletable": false,
    "nbgrader": {
     "checksum": "6d2b1fd1d3f5e9dbcd1986f7c6486293",
     "grade": false,
     "grade_id": "cell-a9d883059572796b",
     "locked": false,
     "schema_version": 1,
     "solution": true
    }
   },
   "outputs": [],
   "source": [
    "# Evaluate on Training Set\n",
    "predictionAndLabels = base_model_fitted.transform(netflowV1)  "
   ]
  },
  {
   "cell_type": "markdown",
   "metadata": {
    "deletable": false,
    "nbgrader": {
     "checksum": "87ceb0a1ca6b81effacaacd94574af69",
     "grade": true,
     "grade_id": "cell-250e44de7b4539f3",
     "locked": false,
     "points": 3,
     "schema_version": 1,
     "solution": true
    }
   },
   "source": [
    "# Generate the Metrics for the Best Model"
   ]
  },
  {
   "cell_type": "code",
   "execution_count": 238,
   "metadata": {},
   "outputs": [
    {
     "name": "stdout",
     "output_type": "stream",
     "text": [
      "Area under ROC = 0.903039\n",
      "Area under PR = 0.011624\n",
      "[[6.34924e+05 0.00000e+00]\n",
      " [1.08000e+03 1.00000e+00]]\n",
      "[Overall]\tprecision = 0.9983019001422945 | recall = 0.9983019001422945 | F1 Measure = 0.9983019001422945\n",
      "[Class 0.0]\tprecision = 0.998301897472343 | recall = 1.0 | F1 Measure = 0.9991502272355318\n",
      "[Class 1.0]\tprecision = 1.0 | recall = 0.0009250693802035153 | F1 Measure = 0.0018484288354898338\n"
     ]
    },
    {
     "data": {
      "text/plain": [
       "{'AUROC': '0.903039',\n",
       " 'AUPR': '0.011624',\n",
       " 'precision': '0.9983019001422945',\n",
       " 'recall': '0.9983019001422945',\n",
       " 'F1 Measure': '0.9983019001422945',\n",
       " 0.0: {'precision': '0.998301897472343',\n",
       "  'recall': '1.0',\n",
       "  'F1 Measure': '0.9991502272355318'},\n",
       " 1.0: {'precision': '1.0',\n",
       "  'recall': '0.0009250693802035153',\n",
       "  'F1 Measure': '0.0018484288354898338'}}"
      ]
     },
     "execution_count": 238,
     "metadata": {},
     "output_type": "execute_result"
    }
   ],
   "source": [
    "#run the evaluate function to get measurements\n",
    "evaluate(predictionAndLabels)"
   ]
  }
 ],
 "metadata": {
  "kernelspec": {
   "display_name": "Python 3",
   "language": "python",
   "name": "python3"
  },
  "language_info": {
   "codemirror_mode": {
    "name": "ipython",
    "version": 3
   },
   "file_extension": ".py",
   "mimetype": "text/x-python",
   "name": "python",
   "nbconvert_exporter": "python",
   "pygments_lexer": "ipython3",
   "version": "3.6.7"
  }
 },
 "nbformat": 4,
 "nbformat_minor": 2
}
